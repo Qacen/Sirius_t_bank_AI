{
  "nbformat": 4,
  "nbformat_minor": 0,
  "metadata": {
    "colab": {
      "provenance": []
    },
    "kernelspec": {
      "name": "python3",
      "display_name": "Python 3"
    },
    "language_info": {
      "name": "python"
    }
  },
  "cells": [
    {
      "cell_type": "code",
      "source": [
        "from transformers import pipeline\n",
        "classifier = pipeline(\"zero-shot-classification\", model=\"facebook/bart-large-mnli\")\n",
        "sequence_to_classify = \"what is the recipe for this dish?\"\n",
        "candidate_labels = [\"clothes\", \"product\", \"flowers\", \"cars\"]\n",
        "output = classifier(sequence_to_classify, candidate_labels, multi_label=False)\n",
        "label = output['labels'][0]\n",
        "print('LABEL:', label)"
      ],
      "metadata": {
        "colab": {
          "base_uri": "https://localhost:8080/"
        },
        "id": "Jn6dyVSzOc4-",
        "outputId": "673e49f3-3684-4cfb-9ac3-0c2dddc8c681"
      },
      "execution_count": null,
      "outputs": [
        {
          "output_type": "stream",
          "name": "stdout",
          "text": [
            "LABEL: product\n"
          ]
        }
      ]
    }
  ]
}